{
 "cells": [
  {
   "cell_type": "markdown",
   "metadata": {},
   "source": [
    "# Obtener las imagenes y sus máscaras correspondientes de las subcarpetas del conjunton de datos CloudSEN12"
   ]
  },
  {
   "cell_type": "markdown",
   "metadata": {},
   "source": [
    "Descargamos archivos ROI de la página web de CloudSEN12: https://www.scidb.cn/en/detail?dataSetId=f72d622ff4ea4fa18070456a98222b1a"
   ]
  },
  {
   "cell_type": "markdown",
   "metadata": {},
   "source": [
    "Extraemos la información del .tar"
   ]
  },
  {
   "cell_type": "code",
   "execution_count": null,
   "metadata": {},
   "outputs": [],
   "source": [
    "import tarfile\n",
    "\n",
    "# Ruta al archivo .tar que deseas abrir\n",
    "ii='85__ROI_5476__ROI_5843.tar'\n",
    "\n",
    "# Abrir el archivo .tar\n",
    "with tarfile.open(ii, 'r') as tar:\n",
    "    # Extraer todos los archivos en la carpeta actual o en una específica\n",
    "    tar.extractall()\n"
   ]
  },
  {
   "cell_type": "markdown",
   "metadata": {},
   "source": [
    "Colocamos estas carpetas en la carpeta im4"
   ]
  },
  {
   "cell_type": "markdown",
   "metadata": {},
   "source": [
    "Guardamos las imagenes en una carpeta llamada imagenes_tif"
   ]
  },
  {
   "cell_type": "code",
   "execution_count": null,
   "metadata": {},
   "outputs": [],
   "source": [
    "import os\n",
    "import shutil\n",
    "\n",
    "# Ruta de la carpeta principal que contiene las subcarpetas\n",
    "carpeta_principal = r'im4'\n",
    "\n",
    "# Carpeta de destino para guardar las imágenes TIFF seleccionadas\n",
    "carpeta_destino = r'D:\\\\INGENIERIA INFORMÁTICA 2021-2022\\\\23-24\\\\TFG\\\\CloudSEN12\\\\im4_tif'\n",
    "\n",
    "# Función para recorrer las subcarpetas y guardar las imágenes TIFF\n",
    "def guardar_imagenes_tiff(carpeta_principal, carpeta_destino):\n",
    "    # Recorremos las subcarpetas en la carpeta principal\n",
    "    for subdir, dirs, files in os.walk(carpeta_principal):\n",
    "        # Iteramos sobre los archivos en la subcarpeta actual\n",
    "        for archivo in files:\n",
    "            # Verificamos si el archivo es un archivo TIFF y si comienza con 'S'\n",
    "            if archivo.endswith('S2L1C.tif'):\n",
    "                # Obtenemos el nombre de la subcarpeta\n",
    "                nombre_subcarpeta = os.path.basename(subdir)\n",
    "                # Generamos un nombre único para el archivo combinando el nombre de la subcarpeta y un número secuencial\n",
    "                nombre_uniq = f\"imagen_{len(os.listdir(carpeta_destino)) + 1}.tif\"\n",
    "                # Construimos la ruta de destino\n",
    "                ruta_destino = os.path.join(carpeta_destino, nombre_uniq)\n",
    "                # Copiamos el archivo a la carpeta de destino\n",
    "                shutil.copy(os.path.join(subdir, archivo), ruta_destino)\n",
    "\n",
    "# Llamamos a la función para ejecutarla\n",
    "guardar_imagenes_tiff(carpeta_principal, carpeta_destino)\n"
   ]
  },
  {
   "cell_type": "markdown",
   "metadata": {},
   "source": [
    "Guardamos las mascaras correspondientes a las imagenes anteriores en una carpeta llamada mascaras_tif"
   ]
  },
  {
   "cell_type": "code",
   "execution_count": null,
   "metadata": {},
   "outputs": [],
   "source": [
    "import os\n",
    "import shutil\n",
    "# Ruta de la carpeta principal que contiene las subcarpetas\n",
    "carpeta_principal = r'im4'\n",
    "\n",
    "# Carpeta de destino para guardar las imágenes TIFF seleccionadas\n",
    "carpeta_destino = r'D:\\\\INGENIERIA INFORMÁTICA 2021-2022\\\\23-24\\\\TFG\\\\CloudSEN12\\\\masc4_tif'\n",
    "\n",
    "# Función para recorrer las subcarpetas y guardar las imágenes TIFF que comienzan con 'S'\n",
    "def guardar_imagenes_tiff(carpeta_principal, carpeta_destino):\n",
    "    # Recorremos las subcarpetas en la carpeta principal\n",
    "    for subdir, dirs, files in os.walk(carpeta_principal):\n",
    "        # Iteramos sobre los archivos en la subcarpeta actual\n",
    "        for archivo in files:\n",
    "            # Verificamos si el archivo es un archivo TIFF y si comienza con 'S'\n",
    "            if archivo.endswith('.tif') and archivo.startswith('fmask'):\n",
    "                # Obtenemos el nombre de la subcarpeta\n",
    "                nombre_subcarpeta = os.path.basename(subdir)\n",
    "                # Generamos un nombre único para el archivo combinando el nombre de la subcarpeta y un número secuencial\n",
    "                nombre_uniq = f\"{nombre_subcarpeta}_{len(os.listdir(carpeta_destino)) + 1}_{archivo}\"\n",
    "                # Construimos la ruta de destino\n",
    "                ruta_destino = os.path.join(carpeta_destino, nombre_uniq)\n",
    "                # Copiamos el archivo a la carpeta de destino\n",
    "                shutil.copy(os.path.join(subdir, archivo), ruta_destino)\n",
    "\n",
    "# Llamamos a la función para ejecutarla\n",
    "guardar_imagenes_tiff(carpeta_principal, carpeta_destino)\n"
   ]
  },
  {
   "cell_type": "markdown",
   "metadata": {},
   "source": [
    "Renombrado de imágenes y máscaras cada vez que descomprimamos un nuevo archivo para no tener imagenes con el mismo nombre\n"
   ]
  },
  {
   "cell_type": "code",
   "execution_count": null,
   "metadata": {},
   "outputs": [],
   "source": [
    "import os\n",
    "\n",
    "# Especifica la ruta de la carpeta\n",
    "carpeta = r'D:\\\\INGENIERIA INFORMÁTICA 2021-2022\\\\23-24\\\\TFG\\\\CloudSEN12\\\\im4_tif'\n",
    "\n",
    "# Recorre todos los archivos en la carpeta\n",
    "for nombre_archivo in os.listdir(carpeta):\n",
    "    # Verifica si el archivo se llama 'labels_' seguido de un número y '_fmask'\n",
    "    if nombre_archivo.startswith('imagen_') and nombre_archivo.endswith('.tif'):\n",
    "        # Extrae el número entre 'labels_' y '_fmask'\n",
    "        numero = nombre_archivo[len('imagen_'):nombre_archivo.index('.tif')]\n",
    "        nuevo_nombre = f'imagen5_{numero}.tif'\n",
    "        ruta_vieja = os.path.join(carpeta, nombre_archivo)\n",
    "        ruta_nueva = os.path.join(carpeta, nuevo_nombre)\n",
    "        # Renombra el archivo\n",
    "        os.rename(ruta_vieja, ruta_nueva)\n",
    "        print(f'Renombrado: {ruta_vieja} a {ruta_nueva}')\n"
   ]
  },
  {
   "cell_type": "code",
   "execution_count": null,
   "metadata": {},
   "outputs": [],
   "source": [
    "import os\n",
    "\n",
    "# Especifica la ruta de la carpeta\n",
    "carpeta = r'D:\\\\INGENIERIA INFORMÁTICA 2021-2022\\\\23-24\\\\TFG\\\\CloudSEN12\\\\masc4_tif'\n",
    "\n",
    "# Recorre todos los archivos en la carpeta\n",
    "for nombre_archivo in os.listdir(carpeta):\n",
    "    # Verifica si el archivo se llama 'labels_' seguido de un número y '_fmask'\n",
    "    if nombre_archivo.startswith('labels_') and nombre_archivo.endswith('fmask.tif'):\n",
    "        # Extrae el número entre 'labels_' y '_fmask'\n",
    "        numero = nombre_archivo[len('labels_'):nombre_archivo.index('fmask.tif')]\n",
    "        nuevo_nombre = f'labels5_{numero}fmask.tif'\n",
    "        ruta_vieja = os.path.join(carpeta, nombre_archivo)\n",
    "        ruta_nueva = os.path.join(carpeta, nuevo_nombre)\n",
    "        # Renombra el archivo\n",
    "        os.rename(ruta_vieja, ruta_nueva)\n",
    "        print(f'Renombrado: {ruta_vieja} a {ruta_nueva}')\n"
   ]
  },
  {
   "cell_type": "markdown",
   "metadata": {},
   "source": [
    "Guardamos las imagenes en la carpeta imagenes_tif y las máscaras en la carpeta máscaras_tif"
   ]
  }
 ],
 "metadata": {
  "language_info": {
   "name": "python"
  }
 },
 "nbformat": 4,
 "nbformat_minor": 2
}
